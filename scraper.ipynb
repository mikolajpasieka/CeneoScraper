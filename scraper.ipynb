{
 "cells": [
  {
   "cell_type": "markdown",
   "metadata": {},
   "source": [
    "### import bibliotek"
   ]
  },
  {
   "cell_type": "code",
   "execution_count": null,
   "metadata": {},
   "outputs": [],
   "source": [
    "import requests \n",
    "from bs4 import BeautifulSoup"
   ]
  },
  {
   "cell_type": "markdown",
   "metadata": {},
   "source": [
    "### wysłanie zapytania o dostep do stronny z opniami o produkcie"
   ]
  },
  {
   "cell_type": "code",
   "execution_count": null,
   "metadata": {},
   "outputs": [],
   "source": [
    "url = \"https://www.ceneo.pl/84514582\"\n",
    "responce = requests.get(url)\n",
    "responce.status_code"
   ]
  },
  {
   "cell_type": "markdown",
   "metadata": {},
   "source": [
    "### jesli operacja zakonczy sie sukcesem, wyodrebnienie z kodu strony fragmentow odpowiadajaacych poszczegolnym opiniom"
   ]
  },
  {
   "cell_type": "code",
   "execution_count": null,
   "metadata": {},
   "outputs": [],
   "source": [
    "if responce.status_code == 200:\n",
    "    page_dom = BeautifulSoup(responce.text, \"html.parser\")\n",
    "    reviews = page_dom.select(\"div.js_product-review:not(.user-post--highlight)\")"
   ]
  },
  {
   "cell_type": "markdown",
   "metadata": {},
   "source": [
    "### dla kazdej z opnii wyodybc z kodu html  poszczegolntch elementow i zapisaneie ich w postaci zlozonych stroktor danych"
   ]
  },
  {
   "cell_type": "code",
   "execution_count": null,
   "metadata": {},
   "outputs": [],
   "source": [
    "for review in reviews:\n",
    "    try:\n",
    "        single_review = {\n",
    "            \"review_id\" : review['data-entry-id'],\n",
    "            \"author\" : review.select_one(\"span.user-post__author-name\").text.strip(),\n",
    "            \"recommendation\": review.select_one(\"span.user-post__author-recomendation > em\").text.strip(),\n",
    "            \"stars\": review.select_one(\"span.user-post__score-count\").text.strip(),\n",
    "            \"content\": review.select_one(\"div.user-post__text\").text.strip(),\n",
    "            \"pros\": [p.text.strip() for p in review.select(\"div.review-feature__item--positive\")],\n",
    "            \"cons\": [c.text.strip() for c in review.select(\"div.review-feature__item--negative\")],\n",
    "            \"likes\": review.select_one(\"button.vote-yes > span\").text.strip(),\n",
    "            \"dislikes\": review.select_one(\"button.vote-no > span\").text.strip(),\n",
    "            \"publish_date\": review.select_one(\"span.user-post__published > time:nth-child(1)\")['datetime'].strip(),\n",
    "            \"purchase_date\": review.select_one(\"span.user-post__published > time:nth-child(2)\")['datetime'].strip(),\n",
    "        }\n",
    "        print(single_review)\n",
    "    except (AttributeError,TypeError):\n",
    "        pass"
   ]
  },
  {
   "cell_type": "code",
   "execution_count": null,
   "metadata": {},
   "outputs": [],
   "source": []
  }
 ],
 "metadata": {
  "kernelspec": {
   "display_name": ".venv",
   "language": "python",
   "name": "python3"
  },
  "language_info": {
   "codemirror_mode": {
    "name": "ipython",
    "version": 3
   },
   "file_extension": ".py",
   "mimetype": "text/x-python",
   "name": "python",
   "nbconvert_exporter": "python",
   "pygments_lexer": "ipython3",
   "version": "3.11.4"
  }
 },
 "nbformat": 4,
 "nbformat_minor": 2
}
